{
 "cells": [
  {
   "cell_type": "code",
   "execution_count": 8,
   "id": "fef01ecd-9c83-40a7-852f-159df7ef9e33",
   "metadata": {},
   "outputs": [
    {
     "name": "stdin",
     "output_type": "stream",
     "text": [
      "enter your marks 91\n"
     ]
    },
    {
     "name": "stdout",
     "output_type": "stream",
     "text": [
      "You will be part of A0 batch\n"
     ]
    }
   ],
   "source": [
    "marks = int(input(\"enter your marks\"))\n",
    "if marks >= 80:\n",
    "    print(\"You will be part of A0 batch\")\n",
    "elif marks >= 60 and marks < 80:\n",
    "    print(\"You will be part of A1 batch\")\n",
    "elif marks >= 40 and marks < 60:\n",
    "    print(\"You will be part of A2 batch\")\n",
    "else:\n",
    "    print(\"You will be part of A3 batch\")"
   ]
  },
  {
   "cell_type": "code",
   "execution_count": 1,
   "id": "f545124c-f075-4f29-8fea-50608dd61957",
   "metadata": {},
   "outputs": [],
   "source": [
    "l = [5,5,8,6,5,21,1,2,3,5,54,4,5,4]"
   ]
  },
  {
   "cell_type": "code",
   "execution_count": 2,
   "id": "1ddc1342-be30-44e9-a75c-74826951ff4d",
   "metadata": {},
   "outputs": [],
   "source": [
    "l.append(10)"
   ]
  },
  {
   "cell_type": "code",
   "execution_count": 3,
   "id": "71a2f203-79c7-4bac-96d4-1e796d58018d",
   "metadata": {},
   "outputs": [
    {
     "data": {
      "text/plain": [
       "[5, 5, 8, 6, 5, 21, 1, 2, 3, 5, 54, 4, 5, 4, 10]"
      ]
     },
     "execution_count": 3,
     "metadata": {},
     "output_type": "execute_result"
    }
   ],
   "source": [
    "l"
   ]
  },
  {
   "cell_type": "code",
   "execution_count": 4,
   "id": "dd8406a5-1b13-481d-8281-e304867b360f",
   "metadata": {},
   "outputs": [],
   "source": [
    "l.append(l[0]+1)"
   ]
  },
  {
   "cell_type": "code",
   "execution_count": 5,
   "id": "ef6a911f-3ac5-4072-a8f5-35829830dd91",
   "metadata": {},
   "outputs": [
    {
     "data": {
      "text/plain": [
       "[5, 5, 8, 6, 5, 21, 1, 2, 3, 5, 54, 4, 5, 4, 10, 6]"
      ]
     },
     "execution_count": 5,
     "metadata": {},
     "output_type": "execute_result"
    }
   ],
   "source": [
    "l"
   ]
  },
  {
   "cell_type": "code",
   "execution_count": 6,
   "id": "5a00dc5f-35a8-497f-94a5-c3f6989ba344",
   "metadata": {},
   "outputs": [
    {
     "data": {
      "text/plain": [
       "6"
      ]
     },
     "execution_count": 6,
     "metadata": {},
     "output_type": "execute_result"
    }
   ],
   "source": [
    "l[0]+1"
   ]
  },
  {
   "cell_type": "code",
   "execution_count": 7,
   "id": "a2629027-d4b3-4531-bc6f-705574e1bf98",
   "metadata": {},
   "outputs": [
    {
     "data": {
      "text/plain": [
       "[5, 5, 8, 6, 5, 21, 1, 2, 3, 5, 54, 4, 5, 4, 10, 6]"
      ]
     },
     "execution_count": 7,
     "metadata": {},
     "output_type": "execute_result"
    }
   ],
   "source": [
    "l"
   ]
  },
  {
   "cell_type": "code",
   "execution_count": 17,
   "id": "6ee15c17-35ac-4fce-8c0c-3606a35e4d6f",
   "metadata": {},
   "outputs": [
    {
     "name": "stdout",
     "output_type": "stream",
     "text": [
      "7\n",
      "7\n",
      "10\n",
      "8\n",
      "7\n",
      "23\n",
      "3\n",
      "4\n",
      "5\n",
      "7\n",
      "56\n",
      "6\n",
      "7\n",
      "6\n",
      "12\n",
      "8\n"
     ]
    },
    {
     "data": {
      "text/plain": [
       "[7, 7, 10, 8, 7, 23, 3, 4, 5, 7, 56, 6, 7, 6, 12, 8]"
      ]
     },
     "execution_count": 17,
     "metadata": {},
     "output_type": "execute_result"
    }
   ],
   "source": [
    "l1  = []\n",
    "for ved in l:\n",
    "    print(ved+2)\n",
    "    l1.append(ved+2)\n",
    "l1"
   ]
  },
  {
   "cell_type": "code",
   "execution_count": 18,
   "id": "6c1afb9b-b55c-4ee9-983e-0b70fbf83e53",
   "metadata": {},
   "outputs": [],
   "source": [
    "l3 = [\"ved\", 'thar', 'bike', 'trading', 'class']"
   ]
  },
  {
   "cell_type": "code",
   "execution_count": 22,
   "id": "261bf4ea-507b-4303-9e60-5065852a6428",
   "metadata": {},
   "outputs": [
    {
     "name": "stdout",
     "output_type": "stream",
     "text": [
      "ved\n"
     ]
    },
    {
     "ename": "AttributeError",
     "evalue": "'str' object has no attribute 'uppper'",
     "output_type": "error",
     "traceback": [
      "\u001b[0;31m---------------------------------------------------------------------------\u001b[0m",
      "\u001b[0;31mAttributeError\u001b[0m                            Traceback (most recent call last)",
      "Cell \u001b[0;32mIn[22], line 4\u001b[0m\n\u001b[1;32m      2\u001b[0m \u001b[38;5;28;01mfor\u001b[39;00m i \u001b[38;5;129;01min\u001b[39;00m l3:\n\u001b[1;32m      3\u001b[0m     \u001b[38;5;28mprint\u001b[39m(i)\n\u001b[0;32m----> 4\u001b[0m     l1\u001b[38;5;241m.\u001b[39mappend(\u001b[43mi\u001b[49m\u001b[38;5;241;43m.\u001b[39;49m\u001b[43muppper\u001b[49m())\n",
      "\u001b[0;31mAttributeError\u001b[0m: 'str' object has no attribute 'uppper'"
     ]
    }
   ],
   "source": [
    "l1  = []\n",
    "for i in l3:\n",
    "    print(i)\n",
    "    l1.append(i.uppper())"
   ]
  },
  {
   "cell_type": "code",
   "execution_count": null,
   "id": "60abe548-e273-4ed3-af09-846f6b7bc17c",
   "metadata": {},
   "outputs": [],
   "source": []
  },
  {
   "cell_type": "code",
   "execution_count": null,
   "id": "b39d3de0-1264-4287-a77f-9ef9bd084927",
   "metadata": {},
   "outputs": [],
   "source": []
  },
  {
   "cell_type": "code",
   "execution_count": 28,
   "id": "7234f5ac-df6c-4521-9b0b-40475a566c9a",
   "metadata": {},
   "outputs": [
    {
     "name": "stdout",
     "output_type": "stream",
     "text": [
      "ved\n",
      "thar\n",
      "bike\n",
      "trading\n",
      "class\n"
     ]
    }
   ],
   "source": [
    "l1  = []\n",
    "for i in l3:\n",
    "    print(i)\n",
    "    l1.append(i.upper())"
   ]
  },
  {
   "cell_type": "code",
   "execution_count": 29,
   "id": "d97baa40-85ce-4288-b7be-edff0b9a36da",
   "metadata": {},
   "outputs": [
    {
     "data": {
      "text/plain": [
       "['VED', 'THAR', 'BIKE', 'TRADING', 'CLASS']"
      ]
     },
     "execution_count": 29,
     "metadata": {},
     "output_type": "execute_result"
    }
   ],
   "source": [
    "l1"
   ]
  },
  {
   "cell_type": "code",
   "execution_count": 30,
   "id": "3e760835-c33c-48ed-ae71-21ce201ea213",
   "metadata": {},
   "outputs": [
    {
     "data": {
      "text/plain": [
       "['VED', 'THAR', 'BIKE', 'TRADING', 'CLASS']"
      ]
     },
     "execution_count": 30,
     "metadata": {},
     "output_type": "execute_result"
    }
   ],
   "source": [
    "l1"
   ]
  },
  {
   "cell_type": "code",
   "execution_count": 31,
   "id": "e4a19707-0239-46b3-a2f8-3f6eef1ea331",
   "metadata": {},
   "outputs": [],
   "source": [
    "l = [1,22,78,6,2,1,1,54,5,5,'VED', 'THAR', 'BIKE', 'TRADING', 'CLASS', 2.255, True, False, 4+4j, 'car']"
   ]
  },
  {
   "cell_type": "code",
   "execution_count": 40,
   "id": "ae27e882-d694-48a2-8578-715a5b76dd89",
   "metadata": {},
   "outputs": [],
   "source": [
    "l1_num = []\n",
    "l2_str = []\n",
    "l2_bul = []\n",
    "l2_cpx = []\n",
    "for i in l:\n",
    "    if type(i) == int or type(i) == float:\n",
    "        l1_num.append(i)\n",
    "    if type(i) == complex:\n",
    "        l2_cpx.append(i)\n",
    "    if type(i) == bool:\n",
    "        l2_bul.append(i)\n",
    "    else:\n",
    "        l2_str.append(i)"
   ]
  },
  {
   "cell_type": "code",
   "execution_count": 37,
   "id": "68857772-c72d-4f6d-b3db-af7a984f0726",
   "metadata": {},
   "outputs": [
    {
     "data": {
      "text/plain": [
       "[1, 22, 78, 6, 2, 1, 1, 54, 5, 5, 2.255]"
      ]
     },
     "execution_count": 37,
     "metadata": {},
     "output_type": "execute_result"
    }
   ],
   "source": [
    "l1_num"
   ]
  },
  {
   "cell_type": "code",
   "execution_count": 38,
   "id": "8dc9d597-896c-4694-a594-12986ce735d5",
   "metadata": {},
   "outputs": [
    {
     "data": {
      "text/plain": [
       "['VED', 'THAR', 'BIKE', 'TRADING', 'CLASS', True, False, (4+4j), 'car']"
      ]
     },
     "execution_count": 38,
     "metadata": {},
     "output_type": "execute_result"
    }
   ],
   "source": [
    "l2_str"
   ]
  },
  {
   "cell_type": "code",
   "execution_count": 41,
   "id": "85587c34-7da4-485e-8c00-f931c00d23db",
   "metadata": {},
   "outputs": [
    {
     "data": {
      "text/plain": [
       "[True, False]"
      ]
     },
     "execution_count": 41,
     "metadata": {},
     "output_type": "execute_result"
    }
   ],
   "source": [
    "l2_bul"
   ]
  },
  {
   "cell_type": "code",
   "execution_count": 42,
   "id": "760d8274-63a0-4628-b85c-54df69adcc89",
   "metadata": {},
   "outputs": [
    {
     "data": {
      "text/plain": [
       "[(4+4j)]"
      ]
     },
     "execution_count": 42,
     "metadata": {},
     "output_type": "execute_result"
    }
   ],
   "source": [
    "l2_cpx"
   ]
  },
  {
   "cell_type": "code",
   "execution_count": null,
   "id": "691d3834-0dd9-458a-99a2-82dcf8df3ec0",
   "metadata": {},
   "outputs": [],
   "source": []
  }
 ],
 "metadata": {
  "kernelspec": {
   "display_name": "Python 3 (ipykernel)",
   "language": "python",
   "name": "python3"
  },
  "language_info": {
   "codemirror_mode": {
    "name": "ipython",
    "version": 3
   },
   "file_extension": ".py",
   "mimetype": "text/x-python",
   "name": "python",
   "nbconvert_exporter": "python",
   "pygments_lexer": "ipython3",
   "version": "3.10.8"
  }
 },
 "nbformat": 4,
 "nbformat_minor": 5
}
